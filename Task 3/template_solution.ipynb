{
 "cells": [
  {
   "cell_type": "markdown",
   "id": "f16163d2dd773fbc",
   "metadata": {
    "collapsed": false,
    "jupyter": {
     "outputs_hidden": false
    }
   },
   "source": [
    "# Task 3\n",
    "This serves as a template which will guide you through the implementation of this task. It is advised to first read the whole template and get a sense of the overall structure of the code before trying to fill in any of the TODO gaps.\n",
    "This is the jupyter notebook version of the template. For the python file version, please refer to the file `template_solution.py`."
   ]
  },
  {
   "cell_type": "markdown",
   "id": "c95f1a3a9db8e3f9",
   "metadata": {
    "collapsed": false,
    "jupyter": {
     "outputs_hidden": false
    }
   },
   "source": [
    "First, we import necessary libraries:"
   ]
  },
  {
   "cell_type": "code",
   "execution_count": 1,
   "id": "824a840beb8b323e",
   "metadata": {
    "collapsed": false,
    "jupyter": {
     "outputs_hidden": false
    }
   },
   "outputs": [],
   "source": [
    "import numpy as np\n",
    "from torchvision import transforms\n",
    "from torch.utils.data import DataLoader, TensorDataset\n",
    "import os\n",
    "import torch\n",
    "import torchvision\n",
    "from torchvision import transforms\n",
    "import torchvision.datasets as datasets\n",
    "import torch.nn as nn\n",
    "import torch.nn.functional as F\n",
    "from torchvision.models import resnet50, ResNet50_Weights, inception_v3, Inception_V3_Weights\n",
    "import torch.optim as optim\n",
    "\n",
    "from sklearn.model_selection import train_test_split\n",
    "# Add any other imports you need here"
   ]
  },
  {
   "cell_type": "code",
   "execution_count": 2,
   "id": "82adb41ca8c23be6",
   "metadata": {
    "collapsed": false,
    "jupyter": {
     "outputs_hidden": false
    }
   },
   "outputs": [
    {
     "name": "stdout",
     "output_type": "stream",
     "text": [
      "cpu\n"
     ]
    }
   ],
   "source": [
    "# The device is automatically set to GPU if available, otherwise CPU\n",
    "# If you want to force the device to CPU, you can change the line to\n",
    "# device = torch.device(\"cpu\")\n",
    "# When using the GPU, it is important that your model and all data are on the \n",
    "# same device.\n",
    "device = torch.device(\"cuda:0\" if torch.cuda.is_available() else \"cpu\")\n",
    "# List available models\n",
    "all_models = torchvision.models.list_models()\n",
    "classification_models = torchvision.models.list_models(module=torchvision.models)"
   ]
  },
  {
   "cell_type": "code",
   "execution_count": 4,
   "id": "6b3d5c760c9c963b",
   "metadata": {
    "collapsed": false,
    "jupyter": {
     "outputs_hidden": false
    }
   },
   "outputs": [],
   "source": [
    "\"\"\"\n",
    "Transform, resize and normalize the images and then use a pretrained model to extract \n",
    "the embeddings.\n",
    "\"\"\"\n",
    "\n",
    "# TODO: define a model for extraction of the embeddings (Hint: load a pretrained model,\n",
    "# more info here: https://pytorch.org/vision/stable/models.html)\n",
    "\n",
    "\n",
    "# Resnet50 - 0.62-0.63\n",
    "# weights = ResNet50_Weights.IMAGENET1K_V1\n",
    "# model = resnet50(weights=weights)\n",
    "# model_reduced = torch.nn.Sequential(*list(model.children())[:-1])\n",
    "# model_reduced.to(device)\n",
    "# embedding_size = 2048 # Dummy variable, replace with the actual embedding size once you \n",
    "# train_transforms = weights.transforms()\n",
    "\n",
    "\n",
    "# Inception V3\n",
    "weights=Inception_V3_Weights.IMAGENET1K_V1\n",
    "model = inception_v3(weights = weights)  # Set aux_logits=False to disable auxiliary classifier\n",
    "model.fc = nn.Identity()\n",
    "model_reduced = model\n",
    "embedding_size = 2048 # Dummy variable, replace with the actual embedding size once you \n",
    "model_reduced.to(device)\n",
    "train_transforms = weights.transforms()\n",
    "\n",
    "\n",
    "# TODO: define a transform to pre-process the images\n",
    "# The required pre-processing depends on the pre-trained model you choose \n",
    "# below. \n",
    "# See https://pytorch.org/vision/stable/models.html#using-the-pre-trained-models\n",
    "\n",
    "train_dataset = datasets.ImageFolder(root=\"dataset/\", transform=train_transforms)\n",
    "\n",
    "num_images = len(train_dataset)\n",
    "embeddings = np.zeros((num_images, embedding_size))\n",
    "\n",
    "# Hint: adjust batch_size and num_workers to your PC configuration, so that you don't \n",
    "# run out of memory (VRAM if on GPU, RAM if on CPU)\n",
    "train_loader = DataLoader(dataset=train_dataset,\n",
    "                          batch_size=64,\n",
    "                          shuffle=False,\n",
    "                          pin_memory=True, num_workers=12)\n",
    "\n",
    "model_reduced.eval()\n",
    "# print(model_reduced)\n",
    "# Use the model to extract the embeddings\n",
    "start = 0\n",
    "with torch.no_grad():  # Disable gradient calculation\n",
    "    for images, _ in train_loader:\n",
    "        # Move images to the device\n",
    "        images = images.to(device)\n",
    "        output = model_reduced(images)\n",
    "        output = np.squeeze(output.cpu().numpy())\n",
    "        end = start + len(images)\n",
    "        embeddings[start:end] = output\n",
    "        start = end\n",
    "\n",
    "np.save('dataset/embeddings.npy', embeddings)"
   ]
  },
  {
   "cell_type": "code",
   "execution_count": 5,
   "id": "335d91cc379d4f6b",
   "metadata": {
    "collapsed": false,
    "jupyter": {
     "outputs_hidden": false
    }
   },
   "outputs": [],
   "source": [
    "def get_data(file, train=True):\n",
    "    \"\"\"\n",
    "    Load the triplets from the file and generate the features and labels.\n",
    "\n",
    "    input: file: string, the path to the file containing the triplets\n",
    "          train: boolean, whether the data is for training or testing\n",
    "\n",
    "    output: X: numpy array, the features\n",
    "            y: numpy array, the labels\n",
    "    \"\"\"\n",
    "    triplets = []\n",
    "    with open(file) as f:\n",
    "        for line in f:\n",
    "            triplets.append(line)\n",
    "\n",
    "    # generate training data from triplets\n",
    "    train_dataset = datasets.ImageFolder(root=\"dataset/\",\n",
    "                                         transform=None)\n",
    "    filenames = [s[0].split('/')[-1].replace('.jpg', '') for s in train_dataset.samples]\n",
    "    embeddings = np.load('dataset/embeddings.npy')\n",
    "    # TODO: Normalize the embeddings\n",
    "    embeddings /= np.linalg.norm(embeddings, axis=1, keepdims=True)\n",
    "    \n",
    "    file_to_embedding = {}\n",
    "    for i in range(len(filenames)):\n",
    "        file_to_embedding[filenames[i]] = embeddings[i]\n",
    "    X = []\n",
    "    y = []\n",
    "    # use the individual embeddings to generate the features and labels for triplets\n",
    "    for t in triplets:\n",
    "        emb = [file_to_embedding[a] for a in t.split()]\n",
    "        X.append(np.hstack([emb[0], emb[1], emb[2]]))\n",
    "        y.append(1)\n",
    "        # Generating negative samples (data augmentation)\n",
    "        if train:\n",
    "            X.append(np.hstack([emb[0], emb[2], emb[1]]))\n",
    "            y.append(0)\n",
    "    X = np.vstack(X)\n",
    "    y = np.hstack(y)\n",
    "    return X, y"
   ]
  },
  {
   "cell_type": "markdown",
   "id": "abc48f07a1c0c478",
   "metadata": {
    "collapsed": false,
    "jupyter": {
     "outputs_hidden": false
    }
   },
   "source": [
    "Hint: adjust batch_size and num_workers to your PC configuration, so that you don't run out of memory (VRAM if on GPU, RAM if on CPU)"
   ]
  },
  {
   "cell_type": "code",
   "execution_count": 6,
   "id": "6daf836a4adb0abe",
   "metadata": {
    "collapsed": false,
    "jupyter": {
     "outputs_hidden": false
    }
   },
   "outputs": [],
   "source": [
    "def create_loader_from_np(X, y = None, train = True, batch_size=128, shuffle=True, num_workers = 16):\n",
    "    \"\"\"\n",
    "    Create a torch.utils.data.DataLoader object from numpy arrays containing the data.\n",
    "\n",
    "    input: X: numpy array, the features\n",
    "           y: numpy array, the labels\n",
    "    \n",
    "    output: loader: torch.data.util.DataLoader, the object containing the data\n",
    "    \"\"\"\n",
    "    if train:\n",
    "        # Attention: If you get type errors you can modify the type of the\n",
    "        # labels here\n",
    "        dataset = TensorDataset(torch.from_numpy(X).type(torch.float), \n",
    "                                torch.from_numpy(y).type(torch.long))\n",
    "    else:\n",
    "        dataset = TensorDataset(torch.from_numpy(X).type(torch.float))\n",
    "    loader = DataLoader(dataset=dataset,\n",
    "                        batch_size=batch_size,\n",
    "                        shuffle=shuffle,\n",
    "                        pin_memory=True, num_workers=num_workers) \n",
    "    return loader"
   ]
  },
  {
   "cell_type": "markdown",
   "id": "e1baa5918f11a049",
   "metadata": {
    "collapsed": false,
    "jupyter": {
     "outputs_hidden": false
    }
   },
   "source": [
    "TODO: define a model. Here, the basic structure is defined, but you need to fill in the details"
   ]
  },
  {
   "cell_type": "code",
   "execution_count": 7,
   "id": "fcd11318eb7b9488",
   "metadata": {
    "collapsed": false,
    "jupyter": {
     "outputs_hidden": false
    }
   },
   "outputs": [],
   "source": [
    "class Net(nn.Module):\n",
    "    \"\"\"\n",
    "    The model class, which defines our classifier.\n",
    "    \"\"\"\n",
    " \n",
    "    def __init__(self):\n",
    "        super().__init__()  \n",
    "        self.fc1 = nn.Linear(6144, 256)   \n",
    "        self.fc2 = nn.Linear(256, 128)\n",
    "        self.fc3 = nn.Linear(128, 64)   \n",
    "        self.fc4 = nn.Linear(64, 1)   \n",
    "\n",
    "        self.bn1 = nn.BatchNorm1d(256)\n",
    "        self.bn2 = nn.BatchNorm1d(128)\n",
    "        self.bn3 = nn.BatchNorm1d(64)\n",
    "\n",
    "\n",
    "    def forward(self, x):\n",
    "        # print(x.shape)\n",
    "        x = self.fc1(x)\n",
    "        x = F.dropout(x, p=0.5, training=self.training)\n",
    "        x = self.bn1(x)\n",
    "        x = F.relu(x)\n",
    "\n",
    "        x = self.fc2(x)\n",
    "        x = F.dropout(x, p=0.5, training=self.training)\n",
    "        x = self.bn2(x)\n",
    "        x = F.relu(x)\n",
    "\n",
    "        x = self.fc3(x)\n",
    "        x = F.dropout(x, p=0.5, training=self.training)\n",
    "        x = self.bn3(x)\n",
    "        x = F.relu(x)  \n",
    "\n",
    "        x = self.fc4(x)\n",
    "\n",
    "        return x"
   ]
  },
  {
   "cell_type": "code",
   "execution_count": 8,
   "id": "6e1b0092e0b13f88",
   "metadata": {
    "collapsed": false,
    "jupyter": {
     "outputs_hidden": false
    }
   },
   "outputs": [
    {
     "ename": "KeyError",
     "evalue": "'02461'",
     "output_type": "error",
     "traceback": [
      "\u001b[1;31m---------------------------------------------------------------------------\u001b[0m",
      "\u001b[1;31mKeyError\u001b[0m                                  Traceback (most recent call last)",
      "Cell \u001b[1;32mIn[8], line 4\u001b[0m\n\u001b[0;32m      1\u001b[0m TRAIN_TRIPLETS \u001b[38;5;241m=\u001b[39m \u001b[38;5;124m'\u001b[39m\u001b[38;5;124mtrain_triplets.txt\u001b[39m\u001b[38;5;124m'\u001b[39m\n\u001b[0;32m      3\u001b[0m \u001b[38;5;66;03m# load the training data\u001b[39;00m\n\u001b[1;32m----> 4\u001b[0m X, y \u001b[38;5;241m=\u001b[39m get_data(TRAIN_TRIPLETS)\n\u001b[0;32m      5\u001b[0m \u001b[38;5;66;03m# Create data loaders for the training data\u001b[39;00m\n\u001b[0;32m      7\u001b[0m X_train, X_val, y_train, y_val \u001b[38;5;241m=\u001b[39m train_test_split(X, y, test_size\u001b[38;5;241m=\u001b[39m\u001b[38;5;241m0.2\u001b[39m, random_state\u001b[38;5;241m=\u001b[39m\u001b[38;5;241m42\u001b[39m)\n",
      "Cell \u001b[1;32mIn[5], line 31\u001b[0m, in \u001b[0;36mget_data\u001b[1;34m(file, train)\u001b[0m\n\u001b[0;32m     29\u001b[0m \u001b[38;5;66;03m# use the individual embeddings to generate the features and labels for triplets\u001b[39;00m\n\u001b[0;32m     30\u001b[0m \u001b[38;5;28;01mfor\u001b[39;00m t \u001b[38;5;129;01min\u001b[39;00m triplets:\n\u001b[1;32m---> 31\u001b[0m     emb \u001b[38;5;241m=\u001b[39m [file_to_embedding[a] \u001b[38;5;28;01mfor\u001b[39;00m a \u001b[38;5;129;01min\u001b[39;00m t\u001b[38;5;241m.\u001b[39msplit()]\n\u001b[0;32m     32\u001b[0m     X\u001b[38;5;241m.\u001b[39mappend(np\u001b[38;5;241m.\u001b[39mhstack([emb[\u001b[38;5;241m0\u001b[39m], emb[\u001b[38;5;241m1\u001b[39m], emb[\u001b[38;5;241m2\u001b[39m]]))\n\u001b[0;32m     33\u001b[0m     y\u001b[38;5;241m.\u001b[39mappend(\u001b[38;5;241m1\u001b[39m)\n",
      "Cell \u001b[1;32mIn[5], line 31\u001b[0m, in \u001b[0;36m<listcomp>\u001b[1;34m(.0)\u001b[0m\n\u001b[0;32m     29\u001b[0m \u001b[38;5;66;03m# use the individual embeddings to generate the features and labels for triplets\u001b[39;00m\n\u001b[0;32m     30\u001b[0m \u001b[38;5;28;01mfor\u001b[39;00m t \u001b[38;5;129;01min\u001b[39;00m triplets:\n\u001b[1;32m---> 31\u001b[0m     emb \u001b[38;5;241m=\u001b[39m [file_to_embedding[a] \u001b[38;5;28;01mfor\u001b[39;00m a \u001b[38;5;129;01min\u001b[39;00m t\u001b[38;5;241m.\u001b[39msplit()]\n\u001b[0;32m     32\u001b[0m     X\u001b[38;5;241m.\u001b[39mappend(np\u001b[38;5;241m.\u001b[39mhstack([emb[\u001b[38;5;241m0\u001b[39m], emb[\u001b[38;5;241m1\u001b[39m], emb[\u001b[38;5;241m2\u001b[39m]]))\n\u001b[0;32m     33\u001b[0m     y\u001b[38;5;241m.\u001b[39mappend(\u001b[38;5;241m1\u001b[39m)\n",
      "\u001b[1;31mKeyError\u001b[0m: '02461'"
     ]
    }
   ],
   "source": [
    "TRAIN_TRIPLETS = 'train_triplets.txt'\n",
    "\n",
    "# load the training data\n",
    "X, y = get_data(TRAIN_TRIPLETS)\n",
    "# Create data loaders for the training data\n",
    "\n",
    "X_train, X_val, y_train, y_val = train_test_split(X, y, test_size=0.2, random_state=42)\n",
    "\n",
    "\n",
    "train_loader_train = create_loader_from_np(X_train, y_train, train = True, batch_size=64)\n",
    "train_loader_valid = create_loader_from_np(X_val, y_val, train = True, batch_size=64)\n",
    "# delete the loaded training data to save memory, as the data loader copies\n",
    "del X\n",
    "del y"
   ]
  },
  {
   "cell_type": "code",
   "execution_count": null,
   "id": "5af85d15",
   "metadata": {},
   "outputs": [],
   "source": [
    "TEST_TRIPLETS = 'test_triplets.txt'\n",
    "\n",
    "# repeat for testing data\n",
    "X_test, y_test = get_data(TEST_TRIPLETS, train=False)\n",
    "test_loader = create_loader_from_np(X_test, train = False, batch_size=64, shuffle=False)\n",
    "del X_test\n",
    "del y_test"
   ]
  },
  {
   "cell_type": "code",
   "execution_count": null,
   "id": "28634c90281cd699",
   "metadata": {
    "collapsed": false,
    "jupyter": {
     "outputs_hidden": false
    }
   },
   "outputs": [],
   "source": [
    "\"\"\"\n",
    "The training procedure of the model; it accepts the training data, defines the model \n",
    "and then trains it.\n",
    "\n",
    "input: train_loader: torch.data.util.DataLoader, the object containing the training data\n",
    "    \n",
    "compute: model: torch.nn.Module, the trained model\n",
    "\"\"\"\n",
    "# Define loss function and optimizer\n",
    "\n",
    "\n",
    "model = Net()\n",
    "model.to(device)\n",
    "criterion = nn.CrossEntropyLoss()\n",
    "optimizer = optim.Adam(model.parameters(), lr=0.001)\n",
    "\n",
    "n_epochs = 5\n",
    "# TODO: define a loss function, optimizer and proceed with training. Hint: use the part \n",
    "# of the training data as a validation split. After each epoch, compute the loss on the \n",
    "# validation split and print it out. This enables you to see how your model is performing \n",
    "# on the validation data before submitting the results on the server. After choosing the \n",
    "# best model, train it on the whole training data.\n",
    "for epoch in range(n_epochs):   \n",
    "    running_loss = 0.0 \n",
    "    model.train()    \n",
    "    for [X, y] in train_loader_train:\n",
    "        \n",
    "        # print(y.shape)\n",
    "        X, y = X.to(device), y.to(device)\n",
    "        optimizer.zero_grad()\n",
    "        # X = X.squeeze(1)\n",
    "        outputs = model(X)\n",
    "        # print(outputs.shape)\n",
    "        # print(outputs)\n",
    "        # print(y.shape)\n",
    "        loss = criterion(outputs.flatten(), y.to(torch.float))   \n",
    "        loss.backward()\n",
    "        optimizer.step()\n",
    "        \n",
    "        running_loss += loss.item() * X.size(0)\n",
    "    \n",
    "    epoch_loss = running_loss / len(train_loader_train.dataset)\n",
    "    # print(f\"Epoch [{epoch+1}/{n_epochs}], Loss: {epoch_loss:.4f}\")\n",
    "\n",
    "\n",
    "    # Validation loop\n",
    "    model.eval()  \n",
    "    val_running_loss = 0.0\n",
    "\n",
    "    correct = 0\n",
    "    total = 0\n",
    "    with torch.no_grad():\n",
    "        for X_val, y_val in train_loader_valid:\n",
    "            X_val, y_val = X_val.to(device), y_val.to(device)\n",
    "            val_outputs = model(X_val)\n",
    "            val_loss = criterion(val_outputs.flatten(), y_val.to(torch.float))\n",
    "            val_running_loss += val_loss.item() * X_val.size(0)\n",
    "            \n",
    "            val_outputs[val_outputs >= 0.5] = 1\n",
    "            val_outputs[val_outputs < 0.5] = 0  \n",
    "            val_outputs = val_outputs.view(-1)  \n",
    "          \n",
    "            total += y_val.size(0)\n",
    "            # print(total)\n",
    "            # print((val_outputs == y_val).shape)\n",
    "            correct += (val_outputs == y_val).sum().item()\n",
    "            # print(correct)\n",
    "            # print(\"next\")\n",
    "\n",
    "\n",
    "    accuracy = correct / total\n",
    "    val_epoch_loss = val_running_loss / len(train_loader_valid.dataset)\n",
    "    # print(f\"Validation Loss: {val_epoch_loss:.4f}\")\n",
    "    print(f\"Epoch [{epoch+1}/{n_epochs}], Loss: {epoch_loss:.4f}, Validation Loss : {val_epoch_loss:.4f}, Accuracy {accuracy:.2%} \")\n"
   ]
  },
  {
   "cell_type": "code",
   "execution_count": null,
   "id": "b2ea99b26c348253",
   "metadata": {
    "collapsed": false,
    "jupyter": {
     "outputs_hidden": false
    }
   },
   "outputs": [],
   "source": [
    "\"\"\"\n",
    "The testing procedure of the model; it accepts the testing data and the trained model and \n",
    "then tests the model on it.\n",
    "\n",
    "input: model: torch.nn.Module, the trained model\n",
    "       loader: torch.data.util.DataLoader, the object containing the testing data\n",
    "        \n",
    "compute: None, the function saves the predictions to a results.txt file\n",
    "\"\"\"\n",
    "model.eval()\n",
    "predictions = []\n",
    "# Iterate over the test data\n",
    "with torch.no_grad(): # We don't need to compute gradients for testing\n",
    "    for [x_batch] in test_loader:\n",
    "        x_batch= x_batch.to(device)\n",
    "        # x_batch = x_batch.unsqueeze(1)\n",
    "\n",
    "        predicted = model(x_batch)\n",
    "        predicted = predicted.cpu().numpy()\n",
    "        # Rounding the predictions to 0 or 1\n",
    "        predicted[predicted >= 0.5] = 1\n",
    "        predicted[predicted < 0.5] = 0\n",
    "        predictions.append(predicted)\n",
    "    predictions = np.vstack(predictions)\n",
    "np.savetxt(\"results.txt\", predictions, fmt='%i')\n",
    "print(\"Results saved to results.txt\")"
   ]
  }
 ],
 "metadata": {
  "kernelspec": {
   "display_name": "Python 3 (ipykernel)",
   "language": "python",
   "name": "python3"
  },
  "language_info": {
   "codemirror_mode": {
    "name": "ipython",
    "version": 3
   },
   "file_extension": ".py",
   "mimetype": "text/x-python",
   "name": "python",
   "nbconvert_exporter": "python",
   "pygments_lexer": "ipython3",
   "version": "3.11.5"
  }
 },
 "nbformat": 4,
 "nbformat_minor": 5
}
